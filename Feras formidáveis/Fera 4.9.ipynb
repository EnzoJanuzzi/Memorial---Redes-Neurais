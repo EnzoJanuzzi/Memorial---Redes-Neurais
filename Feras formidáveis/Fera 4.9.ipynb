{
 "cells": [
  {
   "cell_type": "markdown",
   "metadata": {},
   "source": [
    "# 4 - Feras Formidáveis"
   ]
  },
  {
   "cell_type": "markdown",
   "metadata": {},
   "source": [
    "## 4.9 A senha de tamanho variável"
   ]
  },
  {
   "cell_type": "markdown",
   "metadata": {},
   "source": [
    "### Introdução:"
   ]
  },
  {
   "cell_type": "markdown",
   "metadata": {},
   "source": [
    "O objetivo desta atividade é resolver o problema da senha em algoritmos genéticos sem forneçer a informação\n",
    "do tamanho da senha para a função que gera a população, considerando que a senha pode ser uma string de 1 até 30 caracteres. Boa parte do código foi adaptada dos materiais de aula do Daniel Cassar [1-X], em que criou-se scripts específicos para o projeto, os quais serão comentados ao longo da resolução. O exercício foi realizado em conjunto com o Guilherme Sobreira, em que discutimos maneiras de modificar o algoritmo genético original."
   ]
  },
  {
   "cell_type": "markdown",
   "metadata": {},
   "source": [
    "### Desenvolvimento:"
   ]
  },
  {
   "cell_type": "markdown",
   "metadata": {},
   "source": [
    "Importando as bibliotecas necessárias e os scripts [2-5]:"
   ]
  },
  {
   "cell_type": "code",
   "execution_count": 212,
   "metadata": {},
   "outputs": [],
   "source": [
    "import random\n",
    "from string import ascii_lowercase, ascii_uppercase, digits # importa as letras minúsculas, maiúsculas e dígitos\n",
    "from Scripts import populacao_senha_size as cria_populacao\n",
    "from Scripts import funcao_objetivo_pop_senha_size as funcao_objetivo\n",
    "from Scripts import selecao_torneio_min as funcao_selecao\n",
    "from Scripts import cruzamento_uniforme as funcao_cruzamento\n",
    "from Scripts import mutacao_salto_tamanho as funcao_mutacao1\n",
    "from Scripts import mutacao_simples as funcao_mutacao2\n",
    "from Scripts import mutacao_salto as funcao_mutacao3"
   ]
  },
  {
   "cell_type": "markdown",
   "metadata": {},
   "source": [
    "Definindo os hiperparâmetros do problema, dentre os quais criamos uma senha formada por uma lista com cada letra em string, além dos caracteres possíveis que formam uma senha, com letras maiúsculas, minúsculas e os dígitos"
   ]
  },
  {
   "cell_type": "code",
   "execution_count": 213,
   "metadata": {},
   "outputs": [],
   "source": [
    "SENHA = list(\"Su1relyNotASecur6ePassword3\")\n",
    "CARACTERES_POSSIVEIS = ascii_lowercase + ascii_uppercase + digits\n",
    "\n",
    "TAMANHO_POPULACAO = 100\n",
    "CHANCE_DE_CRUZAMENTO = 0.5\n",
    "CHANCE_DE_MUTACAO_LETRA = 0.025\n",
    "CHANCE_DE_MUTACAO_TAMANHO = 0.05\n",
    "TAMANHO_TORNEIO = 3"
   ]
  },
  {
   "cell_type": "markdown",
   "metadata": {},
   "source": [
    "Criando a população inicial do problema, em que cada indivíduo pode conter uma senha entre 1 e 30 caracteres:"
   ]
  },
  {
   "cell_type": "code",
   "execution_count": 214,
   "metadata": {},
   "outputs": [],
   "source": [
    "populacao = cria_populacao(TAMANHO_POPULACAO, CARACTERES_POSSIVEIS)\n",
    "#populacao"
   ]
  },
  {
   "cell_type": "markdown",
   "metadata": {},
   "source": [
    "A função objetivo desse problema considera tanto a distância ordinal entre a letra do candidato e a letra da senha verdadeira, quanto a distância entre o tamanho do candidato e da senha. Aplicou-se um peso proporcional à diferença entre os extremos do ordinal para os caracteres possíveis, garantindo que o algoritmo encontre primeiro um canditado com o mesmo tamanho da senha verdadeira."
   ]
  },
  {
   "cell_type": "code",
   "execution_count": 215,
   "metadata": {},
   "outputs": [
    {
     "name": "stdout",
     "output_type": "stream",
     "text": [
      "['a', 'b', 'c', 'd', 'e', 'f', 'g', 'h', 'i', 'j', 'k', 'l', 'm', 'n', 'o', 'p', 'q', 'r', 's', 't', 'u', 'v', 'w', 'x', 'y', 'z', 'A', 'B', 'C', 'D', 'E', 'F', 'G', 'H', 'I', 'J', 'K', 'L', 'M', 'N', 'O', 'P', 'Q', 'R', 'S', 'T', 'U', 'V', 'W', 'X', 'Y', 'Z', '0', '1', '2', '3', '4', '5', '6', '7', '8', '9'] \n",
      " [97, 98, 99, 100, 101, 102, 103, 104, 105, 106, 107, 108, 109, 110, 111, 112, 113, 114, 115, 116, 117, 118, 119, 120, 121, 122, 65, 66, 67, 68, 69, 70, 71, 72, 73, 74, 75, 76, 77, 78, 79, 80, 81, 82, 83, 84, 85, 86, 87, 88, 89, 90, 48, 49, 50, 51, 52, 53, 54, 55, 56, 57]\n"
     ]
    }
   ],
   "source": [
    "# Analisando o ordinal para os caracteres possíveis\n",
    "print([letra for letra in CARACTERES_POSSIVEIS], '\\n', [ord(letra) for letra in CARACTERES_POSSIVEIS])\n"
   ]
  },
  {
   "cell_type": "code",
   "execution_count": 216,
   "metadata": {},
   "outputs": [
    {
     "data": {
      "text/plain": [
       "75"
      ]
     },
     "execution_count": 216,
     "metadata": {},
     "output_type": "execute_result"
    }
   ],
   "source": [
    "lista_ord = list(ord(letra) for letra in CARACTERES_POSSIVEIS)\n",
    "peso = max(lista_ord) - min(lista_ord) + 1\n",
    "peso"
   ]
  },
  {
   "cell_type": "markdown",
   "metadata": {},
   "source": [
    "O código principal, contendo um laço while para fazer todas as etapas do algoritmo genético (seleção, cruzamento, mutação e atualização da geração) até encontrar a senha correta. Curiosamente, aplicar um cruzamento uniforme funcionou para encontrar a senha correta, após tentativas falhas de criar uma função de cruzamento específica para este problema. Além disso, aplicar 3 funções de mutação diferentes demonstrou ser benéfico pro treinamento do algoritmo, primeiro podendo alterar o tamanho "
   ]
  },
  {
   "cell_type": "code",
   "execution_count": 217,
   "metadata": {},
   "outputs": [
    {
     "name": "stdout",
     "output_type": "stream",
     "text": [
      "Indivíduo ['V', 'B', '1', 'n', 's', 'U', 'e'], gene 5, caracter U\n",
      "0\n",
      "Indivíduo ['V', 'B', '1', 'n', 's', 'q', 'U', 'e'], gene 5, caracter q\n"
     ]
    }
   ],
   "source": [
    "individuo = ['V', 'B', '1', 'n', 's', 'U', 'e']\n",
    "gene = random.randint(0, len(individuo))\n",
    "#gene = len(individuo) # 7\n",
    "print(f'Indivíduo {individuo}, gene {gene}, caracter {individuo[gene]}')\n",
    "\n",
    "if gene == 0:\n",
    "    individuo.insert(0,random.choice(CARACTERES_POSSIVEIS))\n",
    "elif gene == len(individuo):\n",
    "    individuo.pop(gene-1)\n",
    "else:\n",
    "    # sorteia se vai adicionar ou remover o gene\n",
    "    fator_transicao = random.randint(-1,1)\n",
    "    if fator_transicao == -1:\n",
    "        individuo.pop(gene)\n",
    "    else:\n",
    "        individuo.insert(gene,random.choice(CARACTERES_POSSIVEIS))\n",
    "print(fator_transicao)\n",
    "print(f'Indivíduo {individuo}, gene {gene}, caracter {individuo[gene]}')"
   ]
  },
  {
   "cell_type": "code",
   "execution_count": 218,
   "metadata": {},
   "outputs": [
    {
     "name": "stdout",
     "output_type": "stream",
     "text": [
      "1 615RTXeNwv0cFNatC1t5kfUumlnY\n",
      "2 FGDiXOJYnpeKkyWoKx4WF7OpQt9\n",
      "3 FGDRTOeNwp0KkyaoCx4Wk7Upml9\n",
      "4 6W5DiCiNpvZXkNWtCI4WkfUJmo9\n",
      "5 QWDiiXiIpkKfkyWoKx4WFlOpQc9\n",
      "8 6GEqpXoNwv50cnqoKtMEfxkfccM\n",
      "9 QG5RoXoNwvk0ciqoKKMEtxlpcc9\n",
      "10 QGEifXiYpkBffyqtKLEWflPpcc9\n",
      "11 QW9iiXoNppKZcnyoKtKWFlxpQc9\n",
      "12 QYEqiXoYpvBKkyqtCxMWflPppc9\n",
      "13 QY9qiXoNppKZcnyoKxMEfxlpmc9\n",
      "14 QG9qfXoYppBffqqt1tKWkllppc9\n",
      "15 QYEqiXoNpvKKcyytCxMWtxxppc9\n",
      "17 QY9qiXoYppBZfnqo1tKWkxlpmc9\n",
      "19 QY9qiXoNppBZcnyo1tMWkxlppc9\n",
      "21 QY9qiXoNppBZcnyo1tMWkxxppc9\n",
      "22 QY9qiXoNpvBXfnyt1wMWtlxppc9\n",
      "26 QY9qiXoNpvBXfnyt1tMWtxxpmc9\n",
      "28 QY9qiyoNpvBXfnyo1tMWtxxpmc9\n",
      "30 QY9qiyoNpvBXfnyt1tNWtxxppc9\n",
      "31 QY8qiyoNpvBXfnyt1tMWtxxppc8\n",
      "32 QY0qiyoNpvBXfnqo1wMWtxxppc8\n",
      "33 QY9qiyoNqvBXfnyt1hNWtxxppc9\n",
      "34 QY8qiyoNqvBWfnyt1hNWtxxppc9\n",
      "35 QY0qiyoNqvBXfnyt1hNWtxxppc8\n",
      "36 QY0qiyoNqvBWfnyt1hNWtxxppc8\n",
      "38 QY0qiyoNpvBXenqp1hMWtxwppc8\n",
      "39 QY0qiyoNpvBWfnyp1hNWtxwppc8\n",
      "40 QY0qiyoNpvBWenqt1hNWtxwppc8\n",
      "42 RY0qiyoNovBWfnyt1hNWtxwppc8\n",
      "44 RY1qiyoNovBWenqt1hNWtxxppc8\n",
      "45 RY0qhyoNovBWenqt1hNWtxwppc8\n",
      "46 RY1qhyoNovBWenqt1hNWtxwppc8\n",
      "47 RY1qhyoNovBWenqt1hNXtxwppc8\n",
      "50 QZ1qhyoNovBWenyt1hNWswwppc8\n",
      "52 RZ0rhyoNovBWenqs1hNXsxwppc8\n",
      "53 RZ1qhyoNovBWenys1hNXswwppc8\n",
      "55 RY1rhyoNovBWenys1hNXswwppc7\n",
      "57 RZ1rhyoNovBWeeqs1hNXswwppc7\n",
      "61 RZ1rhyoNovBWeeys2hNXswwppc7\n",
      "63 RZ1rhyoNovBWeeqs3hNXswwppc7\n",
      "64 RZ1rhyoNovBWeeys1hNbswwppc7\n",
      "65 RZ1rhyoNovBWeeys3hNbswwppc7\n",
      "77 RZ1rhhpNovAVeeqs3gNXswwopc7\n",
      "78 RZ1rhhpNovAVeeqs3gNXswwopc6\n",
      "82 RZ1rhhpNovAVeeqs3gNXsvwopc6\n",
      "85 RZ1rhhpNovAVeerr3gNXswwopc6\n",
      "86 RZ1rhhpNovAUeerr3gNXswwopc6\n",
      "91 RZ1rhhpNovAVeerr4gNXsvwopc6\n",
      "92 RZ1rhhpNovAVeerr4gNYsvwopc6\n",
      "94 RZ1rhhpNovAUeesr4gNXsvwopc6\n",
      "95 RZ1rhhpNovAUeesr4fNXsvwopc6\n",
      "98 Rg1rhhpNovAUeesr4gNXsvwopc6\n",
      "99 Rg1rhhpNovAUeesr4gNXsvwopd6\n",
      "102 Rg1rhhpNovAUeesr4fNXsvwopd6\n",
      "104 Rg1rhhpNouAUeesr4fNXsvwopd6\n",
      "106 Rg1rhhpNouATeetr4fNXsvwopc6\n",
      "109 Rg1rhhpNouAUeesr4fNasvwopd6\n",
      "112 Rg1rhhqNouATeesr4fNasvwopd6\n",
      "116 Rg1rhhqNouATeesr4eNasvwopd6\n",
      "119 Rh1rhhqNouATedsr4eNasvwopd6\n",
      "122 Rh1rhhqNouATedsr4eOasvwopd6\n",
      "126 Sh1rhhqNouATedsr4eOasvwopd6\n",
      "128 Si1rhhqNouATedsr4eOasvwopd6\n",
      "131 Sh1rhhsNouATedsr4eOasvwopd6\n",
      "133 Si1rhhsNouATedsr4eOasvwopd6\n",
      "136 Si1rhhsNouATedsr4eOasvwopd5\n",
      "138 Sw1rhhrNouATedsr4eOasvwopd6\n",
      "139 Sw1rhhsNouATedsr4eOasvwopd6\n",
      "140 Sw1rhisNouATedsr4eOasvwopd6\n",
      "141 Sw1rhhsNouATedtr4eOasvwopd5\n",
      "143 Sw1rghsNouATedtr4eOasvwopd5\n",
      "144 Sw1rgisNouATedtr4eOasvwopd5\n",
      "147 Sw1rgjsNouATedtr4eOasvwopd5\n",
      "152 Sw1rgjtNouATedtr4eOasvwopd5\n",
      "156 Sw1rgjtNouASedtr4eOasvwopd5\n",
      "158 Sw1rejtNouATedtr4eOasvwopd5\n",
      "160 Sw1rejtNouASedtr4eOasvwopd5\n",
      "162 Sw1rejtNouASedtr4eOastwopd5\n",
      "164 Sw1rejtNouASedtr4eOastwoqd5\n",
      "167 Sw1rejtNouASedur4eOastwoqd5\n",
      "170 Sw1rejtNouASecur4eOastwoqd5\n",
      "171 Sw1rejuNouASecur4eOastwoqd5\n",
      "174 Sw1rejuNouASecur4ePastwoqd5\n",
      "178 Sw1rejuNouASecur4ePasswoqd5\n",
      "181 Sw1rejuNouASecur4ePasswoqd4\n",
      "183 Sw1rejuNotASecur4ePasswoqd4\n",
      "186 Sw1rekuNotASecur4ePasswoqd4\n",
      "189 Sw1rekuNotASecur4ePasswoqd3\n",
      "191 Sw1reluNotASecur4ePasswoqd3\n",
      "196 Sw1reluNotASecur7ePasswoqd3\n",
      "201 Sv1reluNotASecur7ePasswoqd3\n",
      "217 Sv1reluNotASecur7ePassword3\n",
      "223 Su1reluNotASecur7ePassword3\n",
      "232 Su1relvNotASecur7ePassword3\n",
      "236 Su1relvNotASecur6ePassword3\n",
      "252 Su1relwNotASecur6ePassword3\n",
      "292 Su1relxNotASecur6ePassword3\n",
      "316 Su1relyNotASecur6ePassword3\n"
     ]
    }
   ],
   "source": [
    "menor_fitness_geral = float(\"inf\")\n",
    "geracao = 0\n",
    "\n",
    "while menor_fitness_geral != 0:\n",
    "\n",
    "    # Seleção\n",
    "    fitness = funcao_objetivo(populacao, SENHA)\n",
    "    selecionados = funcao_selecao(populacao, fitness, TAMANHO_TORNEIO)\n",
    "\n",
    "    # Cruzamento\n",
    "    proxima_geracao = []\n",
    "    for pai, mae in zip(selecionados[::2], selecionados[1::2]):\n",
    "        individuo1, individuo2 = funcao_cruzamento(pai, mae, CHANCE_DE_CRUZAMENTO)\n",
    "        proxima_geracao.append(individuo1)\n",
    "        proxima_geracao.append(individuo2)\n",
    "\n",
    "    # Mutação\n",
    "    funcao_mutacao1(proxima_geracao, CHANCE_DE_MUTACAO_TAMANHO, list(CARACTERES_POSSIVEIS))\n",
    "    funcao_mutacao2(proxima_geracao, CHANCE_DE_MUTACAO_LETRA, list(CARACTERES_POSSIVEIS))\n",
    "    funcao_mutacao3(proxima_geracao, CHANCE_DE_MUTACAO_LETRA, list(CARACTERES_POSSIVEIS))\n",
    "\n",
    "    # Encerramento\n",
    "    populacao = proxima_geracao\n",
    "    geracao += 1\n",
    "\n",
    "    fitness = funcao_objetivo(populacao, SENHA)\n",
    "    menor_fitness_observado = min(fitness)\n",
    "\n",
    "    if menor_fitness_observado < menor_fitness_geral:\n",
    "        menor_fitness_geral = menor_fitness_observado\n",
    "        indice = fitness.index(menor_fitness_observado)\n",
    "        candidato = populacao[indice]\n",
    "        print(geracao, \"\".join(candidato))"
   ]
  },
  {
   "cell_type": "markdown",
   "metadata": {},
   "source": []
  },
  {
   "cell_type": "markdown",
   "metadata": {},
   "source": [
    "### Conclusão:"
   ]
  },
  {
   "cell_type": "markdown",
   "metadata": {},
   "source": [
    "Foi possível treinar uma rede neural em python puro para tarefas de classificação, embora ela não esteja bem otimizada, aumentando a perda ao longo do treinamento e prevendo apenas um rótulo para os dados do problema. Mesmo assim, foi interessante aprender sobre esse tipo de problema, aumentando meu conhecimento."
   ]
  },
  {
   "cell_type": "markdown",
   "metadata": {},
   "source": [
    "### Referências:"
   ]
  },
  {
   "cell_type": "markdown",
   "metadata": {},
   "source": [
    "[1] CASSAR, Daniel. \"ATP-303 NN 4.2 - Notebook MLP.ipynb\". Material de Aula, 2025.\n",
    "\n",
    "[2] Biblioteca Math. https://docs.python.org/3/library/math.html\n",
    "\n",
    "[3] Biblioteca Random. https://docs.python.org/3/library/random.html\n",
    "\n",
    "[4] Biblioteca Pandas. https://pandas.pydata.org/docs/user_guide/index.html#user-guide\n",
    "\n",
    "[5] Biblioteca Seaborn. https://seaborn.pydata.org/\n",
    "\n",
    "[6] Dataset estudado. https://archive.ics.uci.edu/dataset/53/iris\n",
    "\n",
    "[7] Função de perda analisada. https://medium.com/ensina-ai/uma-explicação-visual-para-função-de-custo-binary-cross-entropy-ou-log-loss-eaee662c396c"
   ]
  }
 ],
 "metadata": {
  "kernelspec": {
   "display_name": "ilumpy",
   "language": "python",
   "name": "ilumpy"
  },
  "language_info": {
   "codemirror_mode": {
    "name": "ipython",
    "version": 3
   },
   "file_extension": ".py",
   "mimetype": "text/x-python",
   "name": "python",
   "nbconvert_exporter": "python",
   "pygments_lexer": "ipython3",
   "version": "3.11.6"
  }
 },
 "nbformat": 4,
 "nbformat_minor": 2
}
