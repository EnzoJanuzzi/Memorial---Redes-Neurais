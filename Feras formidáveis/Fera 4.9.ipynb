{
 "cells": [
  {
   "cell_type": "markdown",
   "metadata": {},
   "source": [
    "# 4 - Feras Formidáveis"
   ]
  },
  {
   "cell_type": "markdown",
   "metadata": {},
   "source": [
    "## 4.9 A senha de tamanho variável"
   ]
  },
  {
   "cell_type": "markdown",
   "metadata": {},
   "source": [
    "**Autores:** Os autores contribuíram igualmente, discutindo a resolução do exercício e os códigos\n",
    "\n",
    "Enzo Januzzi Xavier: Revisão e texto explicativo\n",
    "\n",
    "Guilherme Caetano de Almeida Sobreira: Maior elaboração do código"
   ]
  },
  {
   "cell_type": "markdown",
   "metadata": {},
   "source": [
    "### Introdução:"
   ]
  },
  {
   "cell_type": "markdown",
   "metadata": {},
   "source": [
    "O objetivo desta atividade é resolver o problema da senha em algoritmos genéticos sem forneçer a informação\n",
    "do tamanho da senha para a função que gera a população, considerando que a senha pode ser uma string de 1 até 30 caracteres. Boa parte do código foi adaptada dos materiais de aula do Daniel Cassar [1,2], em que criou-se scripts específicos para o projeto, os quais serão comentados ao longo da resolução. O exercício foi realizado em conjunto com o Guilherme Sobreira, em que discutimos maneiras de modificar o algoritmo genético original."
   ]
  },
  {
   "cell_type": "markdown",
   "metadata": {},
   "source": [
    "### Desenvolvimento:"
   ]
  },
  {
   "cell_type": "markdown",
   "metadata": {},
   "source": [
    "Importando as bibliotecas necessárias [3,4] e os scripts:"
   ]
  },
  {
   "cell_type": "code",
   "execution_count": 1,
   "metadata": {},
   "outputs": [],
   "source": [
    "import random\n",
    "from string import ascii_lowercase, ascii_uppercase, digits # importa as letras minúsculas, maiúsculas e dígitos\n",
    "from Scripts import populacao_senha_size as cria_populacao\n",
    "from Scripts import funcao_objetivo_pop_senha_size as funcao_objetivo\n",
    "from Scripts import selecao_torneio_min as funcao_selecao\n",
    "from Scripts import cruzamento_uniforme as funcao_cruzamento\n",
    "from Scripts import mutacao_salto_tamanho as funcao_mutacao1\n",
    "from Scripts import mutacao_simples as funcao_mutacao2\n",
    "from Scripts import mutacao_salto as funcao_mutacao3"
   ]
  },
  {
   "cell_type": "markdown",
   "metadata": {},
   "source": [
    "Definindo os hiperparâmetros do problema, dentre os quais criamos uma senha formada por uma lista com cada letra em string, além dos caracteres possíveis que formam uma senha, com letras maiúsculas, minúsculas e os dígitos"
   ]
  },
  {
   "cell_type": "code",
   "execution_count": 2,
   "metadata": {},
   "outputs": [],
   "source": [
    "SENHA = list(\"Su1relyNotASecur6ePassword3\")\n",
    "CARACTERES_POSSIVEIS = ascii_lowercase + ascii_uppercase + digits\n",
    "\n",
    "TAMANHO_POPULACAO = 100\n",
    "CHANCE_DE_CRUZAMENTO = 0.5\n",
    "CHANCE_DE_MUTACAO_LETRA = 0.025\n",
    "CHANCE_DE_MUTACAO_TAMANHO = 0.05\n",
    "TAMANHO_TORNEIO = 3"
   ]
  },
  {
   "cell_type": "markdown",
   "metadata": {},
   "source": [
    "Criando a população inicial do problema, em que cada indivíduo pode conter uma senha entre 1 e 30 caracteres:"
   ]
  },
  {
   "cell_type": "code",
   "execution_count": 3,
   "metadata": {},
   "outputs": [],
   "source": [
    "populacao = cria_populacao(TAMANHO_POPULACAO, CARACTERES_POSSIVEIS)\n",
    "#populacao"
   ]
  },
  {
   "cell_type": "markdown",
   "metadata": {},
   "source": [
    "A função objetivo desse problema considera tanto a distância ordinal entre a letra do candidato e a letra da senha verdadeira, quanto a distância entre o tamanho do candidato e da senha. Aplicou-se um peso proporcional à diferença entre os extremos do ordinal para os caracteres possíveis, garantindo que o algoritmo encontre primeiro um canditado com o mesmo tamanho da senha verdadeira."
   ]
  },
  {
   "cell_type": "code",
   "execution_count": 4,
   "metadata": {},
   "outputs": [
    {
     "name": "stdout",
     "output_type": "stream",
     "text": [
      "['a', 'b', 'c', 'd', 'e', 'f', 'g', 'h', 'i', 'j', 'k', 'l', 'm', 'n', 'o', 'p', 'q', 'r', 's', 't', 'u', 'v', 'w', 'x', 'y', 'z', 'A', 'B', 'C', 'D', 'E', 'F', 'G', 'H', 'I', 'J', 'K', 'L', 'M', 'N', 'O', 'P', 'Q', 'R', 'S', 'T', 'U', 'V', 'W', 'X', 'Y', 'Z', '0', '1', '2', '3', '4', '5', '6', '7', '8', '9'] \n",
      " [97, 98, 99, 100, 101, 102, 103, 104, 105, 106, 107, 108, 109, 110, 111, 112, 113, 114, 115, 116, 117, 118, 119, 120, 121, 122, 65, 66, 67, 68, 69, 70, 71, 72, 73, 74, 75, 76, 77, 78, 79, 80, 81, 82, 83, 84, 85, 86, 87, 88, 89, 90, 48, 49, 50, 51, 52, 53, 54, 55, 56, 57]\n"
     ]
    }
   ],
   "source": [
    "# Analisando o ordinal para os caracteres possíveis\n",
    "print([letra for letra in CARACTERES_POSSIVEIS], '\\n', [ord(letra) for letra in CARACTERES_POSSIVEIS])"
   ]
  },
  {
   "cell_type": "code",
   "execution_count": 5,
   "metadata": {},
   "outputs": [
    {
     "data": {
      "text/plain": [
       "75"
      ]
     },
     "execution_count": 5,
     "metadata": {},
     "output_type": "execute_result"
    }
   ],
   "source": [
    "# Definindo o peso\n",
    "lista_ord = list(ord(letra) for letra in CARACTERES_POSSIVEIS)\n",
    "peso = max(lista_ord) - min(lista_ord) + 1\n",
    "peso"
   ]
  },
  {
   "cell_type": "markdown",
   "metadata": {},
   "source": [
    "O código principal, contendo um laço while para fazer todas as etapas do algoritmo genético (seleção, cruzamento, mutação e atualização da geração) até encontrar a senha correta. Curiosamente, aplicar um cruzamento uniforme funcionou para encontrar a senha correta, após tentativas falhas de criar uma função de cruzamento específica para este problema. Além disso, aplicar 3 funções de mutação diferentes demonstrou ser benéfico pro treinamento do algoritmo, primeiro alterando o tamanho dos candidatos e depois seus genes específicos."
   ]
  },
  {
   "cell_type": "code",
   "execution_count": 6,
   "metadata": {},
   "outputs": [
    {
     "name": "stdout",
     "output_type": "stream",
     "text": [
      "1 eDlznJJ3ipC9xQm70ZO7cDJouF0\n",
      "2 3nEqlaAIuGRFsThJEgNiJHglMZ\n",
      "3 0nEaYalJuGRFX3hJVFgNlYevoAB\n",
      "4 0rmznapJarC9xQh70FD7csevuSB\n",
      "5 0rFznJpJirC9XQm70ZKQcsJouz\n",
      "6 FnlqJalIapiBxQhL0eg8cssdoS0\n",
      "7 FnPzYapJirCBXQhL0ZxQcYevoSB\n",
      "8 0rEqnJlJrrFxQhmV0ZKQssdouj\n",
      "9 FrOzlal3ivrVmXQhLrFgqbseolF\n",
      "10 erEqnalJrrCFQQmV0eKNsssouj\n",
      "11 erFznalJrrCFQhmV0eKNsssouj\n",
      "14 FnFznapJrpCFxhmf0eKpsjsduj\n",
      "15 enFqnapJrrCFQhmf0eDQsssouj\n",
      "16 enFqnapJrrCFQhmf0eKQsssouj\n",
      "17 FrFqnapJrpCTyhhf0eKpsssouj\n",
      "18 FrFqnapJrpCTyhhu0eKpsssouj\n",
      "19 FrFqnapJrpCTyhmu0eKpsssouj\n",
      "20 FrFqnapJrrCTyhmu0eKpsssouj\n",
      "22 FrFqnapJrrCTxhmu0eKpsssouj\n",
      "24 FrFqnapJrpCTQhmu0eKksssouj\n",
      "27 FrFqnapJrrCTQhmu0eKksssouj\n",
      "28 GrFqndpJrrCTyhmu0eKksssouj\n",
      "29 GrFqndqJrrCTyhmu0eKksssouj\n",
      "30 FrFqnapJrrCTyhmu0eKaksssouj\n",
      "31 Fr3qnapJrrCTQhmu0eKksssouj\n",
      "32 Fr3qnapJrrCTyhmu0eKasssouj\n",
      "33 Gr3qndpJrrCTyhmu0eKasssouj\n",
      "34 Gr3rndqJrrCTyhmu0eKasssouj\n",
      "39 Gr3rmdqJrrCTyhmu0eKasssouj\n",
      "41 Gr3rneqJrrCTyhmu0eKasssoui\n",
      "42 Gr3rmdqJqrCTyhmt0eKasssouj\n",
      "45 Gr3rmeqJqrCTyhmu0eKasssoui\n",
      "47 Gr3rmerJqrCTyhmu0eKasssoui\n",
      "49 Gr3rmerJqrCTyhmu0eKasstoui\n",
      "50 Gr3rmdrJqrCTyhmu1eKasssroui\n",
      "56 Xr3rmerJqrCTyhmu1eKasstoui\n",
      "59 Xr3rmfrJqsCTyhmu0eKasstoui\n",
      "60 Xr3rmfrJqsCTyhmu1eKasstoui\n",
      "61 Xr3rmfrJqsCTyhmt1eKasstoui\n",
      "63 Xr3rmfrJqsCTyhmt1eSasstoui\n",
      "66 Wr3rmfrJqsCTyhmt1eSasstoui\n",
      "67 Ws3rmfrKqsCTyhmt1eSasstoui\n",
      "70 Wr3rmfrJqsCTyemt1eSasstoui\n",
      "71 Wr3rmfrKqsCTyemt1eSasstoui\n",
      "72 Wr3rmfsKqsCTyemt1eSasstoui\n",
      "73 Wr3rmfrKqsCTUemt1eSasstoui\n",
      "74 Us3rmfrKqsCTahmt1eRasstoui\n",
      "75 Us3rmfrKqsCTaemt1eRasstoui\n",
      "78 Ts3rmfrKqsCTaemt1eRasstoui\n",
      "79 Us3rmfrKqsCTaemt1eRaystouti\n",
      "85 Ts3rmfrKqsCTaemt1eRasstouXi\n",
      "88 Ts3rmfrKqsCTaemt1eRasstotXi\n",
      "91 Ts3rmfrKqsCTaemt2eRafrsooXX\n",
      "92 Ts3rmfrKqsCTaemt2eRasstouQX\n",
      "93 Ts3rmfrKqsCTaemt2eRasstotXX\n",
      "97 Ts2rmfrKqsCTaemt2eRasstotXX\n",
      "99 Ts2rmgrKqsCTaemt2eRasstotXX\n",
      "102 Tt2rmgrKqsCTaemt2eRasstotXX\n",
      "103 Ts2rmgrKqsCTacmt2eRasstotXX\n",
      "107 Tt2rmgrKqsCTacmt2eRasstotXX\n",
      "108 Tt2rmgrKqsCTacmt2eRassuotXX\n",
      "110 Ts2rmfrKqsCTacmt2eQasstotiX\n",
      "111 Tt2rmgrKqsCTacmt2eQasstotiX\n",
      "114 Tt2rmgrKqsCTacmt2eQassuotiX\n",
      "116 Tt2rmgrKqsBTacmt2eQassuotiX\n",
      "117 Tt2rmgrKqsCTacmt2eQassuoti3\n",
      "119 Tt2rmgrKqsBTacmt2eQassuoti3\n",
      "123 Tt2rmgrKpsBTacmt2eQassuoti3\n",
      "124 Tt2rmgrLpsBTacmt2eQassuoti3\n",
      "128 Tt2rmhrKpsBTacmt3eQassuoti3\n",
      "129 Tt2rmhsKpsBTbcmt2eQassuoti3\n",
      "132 Tt2rmhrKpsBTacmr7eQassuoti3\n",
      "133 Tt2rmhrLpsBTbcmr7eQassuoti3\n",
      "139 Tt2rmhsLpsBTbcmr7eQassuoti3\n",
      "142 Tt1rmhsLpsBTbcmr7eQassuoti3\n",
      "143 Tt2rmhsLptBTccmr7eQassuoti3\n",
      "144 Tt1rmhsLptBTbcnr7eQassuoti3\n",
      "146 Tt1rmhtLptBTccmr7eQassuoti3\n",
      "147 Tt1rmhsLpsBTccur7eQassuoti3\n",
      "148 Tt1rmhsLptBTccur7eQassuoti3\n",
      "149 Tt1rmhtLptBTccur7eQassuoti3\n",
      "152 Tt1rmhtLptBTdcur7eQassuoti3\n",
      "153 Tu1rmhtLptBTdcur7eQassuoti3\n",
      "157 Su1rmhtLptBTdcur7eQassuoti3\n",
      "161 Su1rmhtLotBTdcur7eQassuoti3\n",
      "163 Tu1rlhtLotBTecur7eQassuoti3\n",
      "164 Su1rlhtLotBTecur7eQassuoti3\n",
      "167 Su1rlhtLotBTecur7eQassuoth3\n",
      "171 Su1rlhtLotBTecur7ePassuoth3\n",
      "174 Su1rlhtLotBTecur7ePassuosh3\n",
      "177 Su1rlitLotBTecur7ePassuosh3\n",
      "179 Su1rliuLotBTecur7ePassuosh3\n",
      "181 Su1rliuLotBTecur7ePassvosh3\n",
      "186 Su1rliuLotBTecur7ePassvosg3\n",
      "193 Su1rliuLotBTecur7ePasswosg3\n",
      "197 Su1rliuLotBTecur7ePasswosf3\n",
      "199 Su1rliuLotBSecur7ePasswosf3\n",
      "204 Su1rliwLotBTecur7ePasswosf3\n",
      "208 Su1rkivLotBTecur7ePasswose3\n",
      "212 Su1rkivLotBTecur6ePasswose3\n",
      "216 Su1rkivMotBTecur6ePasswose3\n",
      "219 Su1rkivMotBTecur6ePasswosd3\n",
      "224 Su1rkiwMotBTecur6ePasswore3\n",
      "228 Su1rjivMotATecur6ePasswore3\n",
      "231 Su1rjivMotASecur6ePasswore3\n",
      "234 Su1rdivMotATecur6ePasswore3\n",
      "238 Su1rdivMotASecur6ePasswore3\n",
      "242 Su1rdjvMotASecur6ePasswore3\n",
      "254 Su1rdjwMotASecur6ePasswore3\n",
      "258 Su1rdjwMotASecur6ePassword3\n",
      "265 Su1rejwMotASecur6ePassword3\n",
      "269 Su1rekwMotASecur6ePassword3\n",
      "301 Su1rekwNotASecur6ePassword3\n",
      "310 Su1rekxNotASecur6ePassword3\n",
      "321 Su1rekyNotASecur6ePassword3\n",
      "338 Su1relyNotASecur6ePassword3\n"
     ]
    }
   ],
   "source": [
    "menor_fitness_geral = float(\"inf\")\n",
    "geracao = 0\n",
    "\n",
    "while menor_fitness_geral != 0:\n",
    "\n",
    "    # Seleção\n",
    "    fitness = funcao_objetivo(populacao, SENHA)\n",
    "    selecionados = funcao_selecao(populacao, fitness, TAMANHO_TORNEIO)\n",
    "\n",
    "    # Cruzamento\n",
    "    proxima_geracao = []\n",
    "    for pai, mae in zip(selecionados[::2], selecionados[1::2]):\n",
    "        individuo1, individuo2 = funcao_cruzamento(pai, mae, CHANCE_DE_CRUZAMENTO)\n",
    "        proxima_geracao.append(individuo1)\n",
    "        proxima_geracao.append(individuo2)\n",
    "\n",
    "    # Mutação\n",
    "    funcao_mutacao1(proxima_geracao, CHANCE_DE_MUTACAO_TAMANHO, list(CARACTERES_POSSIVEIS))\n",
    "    funcao_mutacao2(proxima_geracao, CHANCE_DE_MUTACAO_LETRA, list(CARACTERES_POSSIVEIS))\n",
    "    funcao_mutacao3(proxima_geracao, CHANCE_DE_MUTACAO_LETRA, list(CARACTERES_POSSIVEIS))\n",
    "\n",
    "    # Encerramento\n",
    "    populacao = proxima_geracao\n",
    "    geracao += 1\n",
    "\n",
    "    fitness = funcao_objetivo(populacao, SENHA)\n",
    "    menor_fitness_observado = min(fitness)\n",
    "\n",
    "    if menor_fitness_observado < menor_fitness_geral:\n",
    "        menor_fitness_geral = menor_fitness_observado\n",
    "        indice = fitness.index(menor_fitness_observado)\n",
    "        candidato = populacao[indice]\n",
    "        print(geracao, \"\".join(candidato))"
   ]
  },
  {
   "cell_type": "markdown",
   "metadata": {},
   "source": [
    "Perceba que mesmo com uma senha complexa, com 30 caracteres e misturando letras e números, o algoritmo conseguiu encontrá-la. Além disso, aplicar as 3 funções de mutação juntas demonstrou ser necessário tanto para a senha convergir quanto para diminuir o número de gerações necessárias. Fica a cargo do leitor verificar isso, alterando quais mutações serão aplicadas"
   ]
  },
  {
   "cell_type": "markdown",
   "metadata": {},
   "source": [
    "### Conclusão:"
   ]
  },
  {
   "cell_type": "markdown",
   "metadata": {},
   "source": [
    "Não fornecer a senha verdadeira para os indivíduos das gerações aumenta a dificuldade do problema, sendo necessário desenvolver outras estratégias para evoluir a população. Por outro lado, aprendi mais sobre esse tema, entendendo melhor como o algoritmo funciona e descobrindo que pode-se usar mais de uma função de mutação"
   ]
  },
  {
   "cell_type": "markdown",
   "metadata": {},
   "source": [
    "### Referências:"
   ]
  },
  {
   "cell_type": "markdown",
   "metadata": {},
   "source": [
    "[1] CASSAR, Daniel. \"ATP-303 GA 4.2 - Notebook descobrindo a senha.ipynb\". Material de Aula, 2025.\n",
    "\n",
    "[2] CASSAR, Daniel. \"funcoes.py\". Scripts baseados, 2025\n",
    "\n",
    "[3] Biblioteca Random. https://docs.python.org/3/library/random.html\n",
    "\n",
    "[4] Biblioteca String. https://docs.python.org/3/library/string.html\n"
   ]
  }
 ],
 "metadata": {
  "kernelspec": {
   "display_name": "ilumpy",
   "language": "python",
   "name": "ilumpy"
  },
  "language_info": {
   "codemirror_mode": {
    "name": "ipython",
    "version": 3
   },
   "file_extension": ".py",
   "mimetype": "text/x-python",
   "name": "python",
   "nbconvert_exporter": "python",
   "pygments_lexer": "ipython3",
   "version": "3.11.6"
  }
 },
 "nbformat": 4,
 "nbformat_minor": 2
}
