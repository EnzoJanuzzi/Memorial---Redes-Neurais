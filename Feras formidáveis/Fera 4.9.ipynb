{
 "cells": [
  {
   "cell_type": "markdown",
   "metadata": {},
   "source": [
    "# 4 - Feras Formidáveis"
   ]
  },
  {
   "cell_type": "markdown",
   "metadata": {},
   "source": [
    "## 4.9 A senha de tamanho variável"
   ]
  },
  {
   "cell_type": "markdown",
   "metadata": {},
   "source": [
    "### Introdução:"
   ]
  },
  {
   "cell_type": "markdown",
   "metadata": {},
   "source": [
    "O objetivo desta atividade é resolver o problema da senha em algoritmos genéticos sem forneçer a informação\n",
    "do tamanho da senha para a função que gera a população, considerando que a senha pode ser uma string de 1 até 30 caracteres. Boa parte do código foi adaptada dos materiais de aula do Daniel Cassar [1-X], em que criou-se scripts específicos para o projeto."
   ]
  },
  {
   "cell_type": "markdown",
   "metadata": {},
   "source": [
    "### Desenvolvimento:"
   ]
  },
  {
   "cell_type": "markdown",
   "metadata": {},
   "source": [
    "Importando as bibliotecas necessárias [2-5]:"
   ]
  },
  {
   "cell_type": "code",
   "execution_count": 5,
   "metadata": {},
   "outputs": [],
   "source": [
    "import random\n",
    "from string import ascii_lowercase, ascii_uppercase, digits # importa as letras minúsculas, maiúsculas e dígitos\n",
    "from Scripts import populacao_senha_size as cria_populacao\n",
    "from Scripts import funcao_objetivo_pop_senha_size as funcao_objetivo\n",
    "from Scripts import selecao_torneio_min as funcao_selecao\n",
    "from Scripts import cruzamento_uniforme as funcao_cruzamento\n",
    "from Scripts import mutacao_salto_tamanho as funcao_mutacao1\n",
    "from Scripts import mutacao_simples as funcao_mutacao2\n",
    "from Scripts import mutacao_salto as funcao_mutacao3"
   ]
  },
  {
   "cell_type": "code",
   "execution_count": 6,
   "metadata": {},
   "outputs": [],
   "source": [
    "SENHA = list(\"Fazzio2020\")\n",
    "CARACTERES_POSSIVEIS = ascii_lowercase + ascii_uppercase + digits\n",
    "\n",
    "TAMANHO_POPULACAO = 100\n",
    "CHANCE_DE_CRUZAMENTO = 0.5\n",
    "CHANCE_DE_MUTACAO_LETRA = 0.025\n",
    "CHANCE_DE_MUTACAO_TAMANHO = 0.05\n",
    "TAMANHO_TORNEIO = 3"
   ]
  },
  {
   "cell_type": "code",
   "execution_count": 10,
   "metadata": {},
   "outputs": [],
   "source": [
    "populacao = cria_populacao(TAMANHO_POPULACAO, CARACTERES_POSSIVEIS)"
   ]
  },
  {
   "cell_type": "code",
   "execution_count": 11,
   "metadata": {},
   "outputs": [
    {
     "name": "stdout",
     "output_type": "stream",
     "text": [
      "1 kxeZesJK58\n",
      "3 DxtoesBK5\n",
      "5 NkeZesJK58\n",
      "7 EacvnsA55\n",
      "9 NaovnsBGD5\n",
      "10 AeovnnIA55\n",
      "16 Ehovnn8J75\n",
      "18 EaovnsJ955\n",
      "19 Eaovmv8555\n",
      "22 Eaovnn8575\n",
      "23 Eaovnn8555\n",
      "24 Eaoven8555\n",
      "27 Eaoveo8555\n",
      "29 Eaovmo7555\n",
      "31 Eaovmo7545\n",
      "32 Faoveo7554\n",
      "34 Eapvmo7544\n",
      "37 Eapveo0545\n",
      "39 Eapwfo0545\n",
      "40 Eapwfo0544\n",
      "42 Eaqvfo0543\n",
      "44 Eaqwfo0543\n",
      "47 Eaqwfo0541\n",
      "50 Eaqwfo0441\n",
      "53 Eaqwgo0540\n",
      "56 Eaqwgo0440\n",
      "57 Earwgo0440\n",
      "59 Earxgo0440\n",
      "60 Earwgo0040\n",
      "71 Eawxgo1430\n",
      "75 Eawygo1430\n",
      "77 Eawxho2430\n",
      "79 Eaxxho2430\n",
      "81 Eaxyho2430\n",
      "85 Faxyho2430\n",
      "90 Eaxzio2430\n",
      "93 Faxzio2430\n",
      "95 Faxzio2330\n",
      "99 Faxzio2030\n",
      "103 Faxzio2020\n",
      "115 Fayzio2020\n",
      "123 Fazzio2020\n"
     ]
    }
   ],
   "source": [
    "menor_fitness_geral = float(\"inf\")\n",
    "geracao = 0\n",
    "\n",
    "while menor_fitness_geral != 0 and geracao <= 1000:\n",
    "\n",
    "    # Seleção\n",
    "    fitness = funcao_objetivo(populacao, SENHA)\n",
    "    selecionados = funcao_selecao(populacao, fitness, TAMANHO_TORNEIO)\n",
    "\n",
    "    # Cruzamento\n",
    "    proxima_geracao = []\n",
    "    for pai, mae in zip(selecionados[::2], selecionados[1::2]):\n",
    "        individuo1, individuo2 = funcao_cruzamento(pai, mae, CHANCE_DE_CRUZAMENTO)\n",
    "        proxima_geracao.append(individuo1)\n",
    "        proxima_geracao.append(individuo2)\n",
    "\n",
    "    # Mutação\n",
    "    funcao_mutacao1(proxima_geracao, CHANCE_DE_MUTACAO_TAMANHO, list(CARACTERES_POSSIVEIS))\n",
    "    funcao_mutacao2(proxima_geracao, CHANCE_DE_MUTACAO_LETRA, list(CARACTERES_POSSIVEIS))\n",
    "    funcao_mutacao3(proxima_geracao, CHANCE_DE_MUTACAO_LETRA, list(CARACTERES_POSSIVEIS))\n",
    "\n",
    "    # Encerramento\n",
    "    populacao = proxima_geracao\n",
    "    geracao += 1\n",
    "\n",
    "    fitness = funcao_objetivo(populacao, SENHA)\n",
    "    menor_fitness_observado = min(fitness)\n",
    "\n",
    "    if menor_fitness_observado < menor_fitness_geral:\n",
    "        menor_fitness_geral = menor_fitness_observado\n",
    "        indice = fitness.index(menor_fitness_observado)\n",
    "        candidato = populacao[indice]\n",
    "        print(geracao, \"\".join(candidato))"
   ]
  },
  {
   "cell_type": "code",
   "execution_count": null,
   "metadata": {},
   "outputs": [],
   "source": []
  },
  {
   "cell_type": "markdown",
   "metadata": {},
   "source": [
    "### Conclusão:"
   ]
  },
  {
   "cell_type": "markdown",
   "metadata": {},
   "source": [
    "Foi possível treinar uma rede neural em python puro para tarefas de classificação, embora ela não esteja bem otimizada, aumentando a perda ao longo do treinamento e prevendo apenas um rótulo para os dados do problema. Mesmo assim, foi interessante aprender sobre esse tipo de problema, aumentando meu conhecimento."
   ]
  },
  {
   "cell_type": "markdown",
   "metadata": {},
   "source": [
    "### Referências:"
   ]
  },
  {
   "cell_type": "markdown",
   "metadata": {},
   "source": [
    "[1] CASSAR, Daniel. \"ATP-303 NN 4.2 - Notebook MLP.ipynb\". Material de Aula, 2025.\n",
    "\n",
    "[2] Biblioteca Math. https://docs.python.org/3/library/math.html\n",
    "\n",
    "[3] Biblioteca Random. https://docs.python.org/3/library/random.html\n",
    "\n",
    "[4] Biblioteca Pandas. https://pandas.pydata.org/docs/user_guide/index.html#user-guide\n",
    "\n",
    "[5] Biblioteca Seaborn. https://seaborn.pydata.org/\n",
    "\n",
    "[6] Dataset estudado. https://archive.ics.uci.edu/dataset/53/iris\n",
    "\n",
    "[7] Função de perda analisada. https://medium.com/ensina-ai/uma-explicação-visual-para-função-de-custo-binary-cross-entropy-ou-log-loss-eaee662c396c"
   ]
  }
 ],
 "metadata": {
  "kernelspec": {
   "display_name": "ilumpy",
   "language": "python",
   "name": "ilumpy"
  },
  "language_info": {
   "codemirror_mode": {
    "name": "ipython",
    "version": 3
   },
   "file_extension": ".py",
   "mimetype": "text/x-python",
   "name": "python",
   "nbconvert_exporter": "python",
   "pygments_lexer": "ipython3",
   "version": "3.11.6"
  }
 },
 "nbformat": 4,
 "nbformat_minor": 2
}
