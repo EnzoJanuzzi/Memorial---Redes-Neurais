{
 "cells": [
  {
   "cell_type": "markdown",
   "metadata": {},
   "source": [
    "# 4 - Feras Formidáveis"
   ]
  },
  {
   "cell_type": "markdown",
   "metadata": {},
   "source": [
    "## 4.13 A liga ternária mais cara do mundo"
   ]
  },
  {
   "cell_type": "markdown",
   "metadata": {},
   "source": [
    "**Autores:** \n",
    "\n",
    "Enzo Januzzi Xavier: \n",
    "\n",
    "Rafael Anis Shaikhzadeh Santos:\n",
    "\n",
    "Thalles José de Souza Cansi "
   ]
  },
  {
   "cell_type": "markdown",
   "metadata": {},
   "source": [
    "### Introdução:"
   ]
  },
  {
   "cell_type": "markdown",
   "metadata": {},
   "source": [
    "O objetivo desta atividade é encontrar uma liga de três elementos que tenha o maior custo possível utilizando algoritmos genéticos. A liga ternária deve ser da forma **`x A . y B . z C`** sendo que \n",
    "\n",
    "$$\n",
    "\\begin{cases}\n",
    "x + y + z = 100\\,\\mathrm{g} \\\\\n",
    "x \\geq 5\\,\\mathrm{g} \\\\\n",
    "y \\geq 5\\,\\mathrm{g} \\\\\n",
    "z \\geq 5\\,\\mathrm{g}\n",
    "\\end{cases}\n",
    "$$\n",
    "\n",
    "e *A*, *B* e *C* são elementos químicos diferentes. O preço de cada elemento disponível está definido abaixo\n",
    "[1]. Considerou-se que qualquer composto com 3 elementos químicos é chamado de liga, desprezando equivalência química nas fórmulas."
   ]
  },
  {
   "cell_type": "markdown",
   "metadata": {},
   "source": [
    "### Desenvolvimento:"
   ]
  },
  {
   "cell_type": "markdown",
   "metadata": {},
   "source": [
    "Importando as bibliotecas necessárias [3,4] e os scripts:"
   ]
  },
  {
   "cell_type": "code",
   "execution_count": 174,
   "metadata": {},
   "outputs": [],
   "source": [
    "import random\n",
    "from pprint import pprint\n",
    "from functools import partial\n",
    "from itertools import product\n",
    "\n",
    "from funcoes import funcao_objetivo_pop_mochila\n",
    "from funcoes import populacao_cb as cria_populacao\n",
    "from funcoes import selecao_roleta_max as funcao_selecao\n",
    "from funcoes import cruzamento_uniforme as funcao_cruzamento\n",
    "from funcoes import mutacao_simples_cb as funcao_mutacao\n",
    "from funcoes import calcula_mochila\n",
    "from funcoes import funcao_objetivo_mochila"
   ]
  },
  {
   "cell_type": "markdown",
   "metadata": {},
   "source": [
    "Definindo os hiperparâmetros do problema, dentre os quais criamos uma senha formada por uma lista com cada letra em string, além dos caracteres possíveis que formam uma senha, com letras maiúsculas, minúsculas e os dígitos"
   ]
  },
  {
   "cell_type": "code",
   "execution_count": 2,
   "metadata": {},
   "outputs": [],
   "source": [
    "PRECO = {\n",
    "    \"H\": 1.39, \"He\": 24, \"Li\": 85.6, \"Be\": 857, \"B\": 3.68, \"C\": 0.122, \"N\": 0.14, \"O\": 0.154, \"F\": 2.16, \"Ne\": 240,\n",
    "    \"Na\": 3.43, \"Mg\": 2.32, \"Al\": 1.79, \"Si\": 1.7, \"P\": 2.69, \"S\": 0.0926, \"Cl\": 0.082, \"Ar\": 0.931, \"K\": 13.6,\n",
    "    \"Ca\": 2.35, \"Sc\": 3460, \"Ti\": 11.7, \"V\": 385, \"Cr\": 9.4, \"Mn\": 1.82, \"Fe\": 0.424, \"Co\": 32.8, \"Ni\": 13.9,\n",
    "    \"Cu\": 6, \"Zn\": 2.55, \"Ga\": 148, \"Ge\": 1010, \"As\": 1.31, \"Se\": 21.4, \"Br\": 4.39, \"Kr\": 290, \"Rb\": 15500,\n",
    "    \"Sr\": 6.68, \"Y\": 31, \"Nb\": 85.6, \"Mo\": 40.1, \"Tc\": 100000, \"Ru\": 10600, \"Rh\": 147000, \"Pd\": 49500, \"Ag\": 521,\n",
    "    \"Cd\": 2.73, \"In\": 167, \"Sn\": 18.7, \"Sb\": 5.79, \"Te\": 63.5, \"I\": 35, \"Xe\": 1800, \"Cs\": 61800, \"Ba\": 0.275,\n",
    "    \"La\": 4.92, \"Ce\": 4.71, \"Pr\": 103, \"Nd\": 57.5, \"Pm\": 460000, \"Sm\": 13.9, \"Eu\": 31.4, \"Gd\": 28.6, \"Tb\": 658,\n",
    "    \"Dy\": 307, \"Ho\": 57.1, \"Er\": 26.4, \"Tm\": 3000, \"Yb\": 17.1, \"Lu\": 643, \"Hf\": 900, \"Ta\": 312, \"W\": 35.3,\n",
    "    \"Re\": 4150, \"Os\": 12000, \"Ir\": 56200, \"Pt\": 27800, \"Hg\": 30.2, \"Tl\": 4200, \"Pb\": 2, \"Bi\": 6.36, \"Po\": 49200000000000,\n",
    "    \"Ac\": 29000000000000, \"Th\": 287, \"Pa\": 280000, \"U\": 101, \"Np\": 660000, \"Pu\": 6490000, \"Am\": 750000,\n",
    "    \"Cm\": 160000000000, \"Bk\": 185000000000, \"Cf\": 185000000000,\n",
    "}\n"
   ]
  },
  {
   "cell_type": "code",
   "execution_count": 175,
   "metadata": {},
   "outputs": [],
   "source": [
    "ELEMENTOS = list(preco.keys())\n",
    "CARACTERES_POSSIVEIS = ascii_lowercase + ascii_uppercase + digits\n",
    "\n",
    "TAMANHO_POPULACAO = 100\n",
    "CHANCE_DE_CRUZAMENTO = 0.5\n",
    "CHANCE_DE_MUTACAO_LETRA = 0.025\n",
    "CHANCE_DE_MUTACAO_TAMANHO = 0.05\n",
    "TAMANHO_TORNEIO = 3"
   ]
  },
  {
   "cell_type": "markdown",
   "metadata": {},
   "source": []
  },
  {
   "cell_type": "code",
   "execution_count": null,
   "metadata": {},
   "outputs": [],
   "source": [
    "funcao_objetivo = partial(funcao_objetivo_pop_mochila, \n",
    "                          itens=ITENS, \n",
    "                          ordem_dos_itens=ORDEM_DOS_ITENS, \n",
    "                          limite=LIMITE)"
   ]
  },
  {
   "cell_type": "markdown",
   "metadata": {},
   "source": [
    "Criando a população inicial do problema, em que cada indivíduo pode conter uma senha entre 1 e 30 caracteres:"
   ]
  },
  {
   "cell_type": "code",
   "execution_count": 176,
   "metadata": {},
   "outputs": [],
   "source": [
    "populacao = cria_populacao(TAMANHO_POPULACAO, CARACTERES_POSSIVEIS)\n",
    "#populacao"
   ]
  },
  {
   "cell_type": "markdown",
   "metadata": {},
   "source": [
    "A função objetivo desse problema considera tanto a distância ordinal entre a letra do candidato e a letra da senha verdadeira, quanto a distância entre o tamanho do candidato e da senha. Aplicou-se um peso proporcional à diferença entre os extremos do ordinal para os caracteres possíveis, garantindo que o algoritmo encontre primeiro um canditado com o mesmo tamanho da senha verdadeira."
   ]
  },
  {
   "cell_type": "code",
   "execution_count": 177,
   "metadata": {},
   "outputs": [
    {
     "name": "stdout",
     "output_type": "stream",
     "text": [
      "['a', 'b', 'c', 'd', 'e', 'f', 'g', 'h', 'i', 'j', 'k', 'l', 'm', 'n', 'o', 'p', 'q', 'r', 's', 't', 'u', 'v', 'w', 'x', 'y', 'z', 'A', 'B', 'C', 'D', 'E', 'F', 'G', 'H', 'I', 'J', 'K', 'L', 'M', 'N', 'O', 'P', 'Q', 'R', 'S', 'T', 'U', 'V', 'W', 'X', 'Y', 'Z', '0', '1', '2', '3', '4', '5', '6', '7', '8', '9'] \n",
      " [97, 98, 99, 100, 101, 102, 103, 104, 105, 106, 107, 108, 109, 110, 111, 112, 113, 114, 115, 116, 117, 118, 119, 120, 121, 122, 65, 66, 67, 68, 69, 70, 71, 72, 73, 74, 75, 76, 77, 78, 79, 80, 81, 82, 83, 84, 85, 86, 87, 88, 89, 90, 48, 49, 50, 51, 52, 53, 54, 55, 56, 57]\n"
     ]
    }
   ],
   "source": [
    "# Analisando o ordinal para os caracteres possíveis\n",
    "print([letra for letra in CARACTERES_POSSIVEIS], '\\n', [ord(letra) for letra in CARACTERES_POSSIVEIS])\n"
   ]
  },
  {
   "cell_type": "code",
   "execution_count": 178,
   "metadata": {},
   "outputs": [
    {
     "data": {
      "text/plain": [
       "75"
      ]
     },
     "execution_count": 178,
     "metadata": {},
     "output_type": "execute_result"
    }
   ],
   "source": [
    "# Definindo o peso\n",
    "lista_ord = list(ord(letra) for letra in CARACTERES_POSSIVEIS)\n",
    "peso = max(lista_ord) - min(lista_ord) + 1\n",
    "peso"
   ]
  },
  {
   "cell_type": "markdown",
   "metadata": {},
   "source": [
    "O código principal, contendo um laço while para fazer todas as etapas do algoritmo genético (seleção, cruzamento, mutação e atualização da geração) até encontrar a senha correta. Curiosamente, aplicar um cruzamento uniforme funcionou para encontrar a senha correta, após tentativas falhas de criar uma função de cruzamento específica para este problema. Além disso, aplicar 3 funções de mutação diferentes demonstrou ser benéfico pro treinamento do algoritmo, primeiro alterando o tamanho dos candidatos e depois seus genes específicos."
   ]
  },
  {
   "cell_type": "code",
   "execution_count": null,
   "metadata": {},
   "outputs": [],
   "source": [
    "hall_da_fama = []\n",
    "\n",
    "for n in range(NUM_GERACOES):\n",
    "    \n",
    "    # Seleção\n",
    "    fitness = funcao_objetivo(populacao)        \n",
    "    selecionados = funcao_selecao(populacao, fitness)\n",
    "    \n",
    "    # Cruzamento\n",
    "    proxima_geracao = []\n",
    "    for pai, mae in zip(selecionados[::2], selecionados[1::2]):\n",
    "        individuo1, individuo2 = funcao_cruzamento(pai, mae, CHANCE_DE_CRUZAMENTO)\n",
    "        proxima_geracao.append(individuo1)\n",
    "        proxima_geracao.append(individuo2)\n",
    "    \n",
    "    # Mutação\n",
    "    funcao_mutacao(proxima_geracao, CHANCE_DE_MUTACAO)\n",
    "    \n",
    "    # Atualização do hall da fama\n",
    "    fitness = funcao_objetivo(proxima_geracao)\n",
    "        \n",
    "    maior_fitness = max(fitness)\n",
    "    indice = fitness.index(maior_fitness)\n",
    "    hall_da_fama.append(proxima_geracao[indice])    \n",
    "    \n",
    "    # Encerramento\n",
    "    populacao = proxima_geracao"
   ]
  },
  {
   "cell_type": "markdown",
   "metadata": {},
   "source": [
    "Perceba que mesmo com uma senha complexa, com 30 caracteres e misturando letras e números, o algoritmo conseguiu encontrá-la. Além disso, aplicar as 3 funções de mutação juntas demonstrou ser necessário tanto para a senha convergir quanto para diminuir o número de gerações necessárias. Fica a cargo do leitor verificar isso, alterando quais mutações serão aplicadas"
   ]
  },
  {
   "cell_type": "code",
   "execution_count": null,
   "metadata": {},
   "outputs": [],
   "source": [
    "fitness = funcao_objetivo(hall_da_fama)\n",
    "maior_fitness = max(fitness)\n",
    "indice = fitness.index(maior_fitness)\n",
    "melhor_individuo_observado = hall_da_fama[indice]\n",
    "\n",
    "print()\n",
    "print(\"Você deve pegar os seguintes itens:\")\n",
    "\n",
    "for i in range(NUM_ITENS):\n",
    "    if melhor_individuo_observado[i] == 1: # item está na mochila\n",
    "        print(\"+\", ORDEM_DOS_ITENS[i])\n",
    "\n",
    "print()\n",
    "\n",
    "peso_total, valor_total = calcula_mochila(melhor_individuo_observado, ITENS, ORDEM_DOS_ITENS)\n",
    "\n",
    "print(\n",
    "    f\"Com isso, sua mochila terá o valor de {valor_total:.2f} reais \"\n",
    "    f\"e peso de {peso_total:.2f} quilogramas.\"\n",
    ")"
   ]
  },
  {
   "cell_type": "markdown",
   "metadata": {},
   "source": [
    "### Conclusão:"
   ]
  },
  {
   "cell_type": "markdown",
   "metadata": {},
   "source": [
    "Não fornecer a senha verdadeira para os indivíduos das gerações aumenta a dificuldade do problema, sendo necessário desenvolver outras estratégias para evoluir a população. Por outro lado, aprendi mais sobre esse tema, entendendo melhor como o algoritmo funciona e descobrindo que pode-se usar mais de uma função de mutação"
   ]
  },
  {
   "cell_type": "markdown",
   "metadata": {},
   "source": [
    "### Referências:"
   ]
  },
  {
   "cell_type": "markdown",
   "metadata": {},
   "source": [
    "[1] CASSAR, Daniel. \"ATP-303 GA 4.2 - Notebook descobrindo a senha.ipynb\". Material de Aula, 2025.\n",
    "\n",
    "[2] CASSAR, Daniel. \"funcoes.py\". Scripts baseados, 2025\n",
    "\n",
    "[3] Biblioteca Random. https://docs.python.org/3/library/random.html\n",
    "\n",
    "[4] Biblioteca String. https://docs.python.org/3/library/string.html\n"
   ]
  }
 ],
 "metadata": {
  "kernelspec": {
   "display_name": "ilumpy",
   "language": "python",
   "name": "python3"
  },
  "language_info": {
   "codemirror_mode": {
    "name": "ipython",
    "version": 3
   },
   "file_extension": ".py",
   "mimetype": "text/x-python",
   "name": "python",
   "nbconvert_exporter": "python",
   "pygments_lexer": "ipython3",
   "version": "3.11.6"
  }
 },
 "nbformat": 4,
 "nbformat_minor": 2
}
