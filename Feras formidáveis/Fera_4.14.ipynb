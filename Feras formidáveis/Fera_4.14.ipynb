{
 "cells": [
  {
   "cell_type": "markdown",
   "metadata": {},
   "source": [
    "# 4 - Feras Formidáveis"
   ]
  },
  {
   "cell_type": "markdown",
   "metadata": {},
   "source": [
    "## 4.13 A liga ternária leve mais cara do mundo"
   ]
  },
  {
   "cell_type": "markdown",
   "metadata": {},
   "source": [
    "**Autores:** \n",
    "\n",
    "Enzo Januzzi Xavier\n",
    "\n",
    "Rafael Anis Shaikhzadeh Santos\n",
    "\n",
    "**Contribuição:** Ambos discutiram o problema e fizeram a maior parte do código juntos. Se dividiram apenas para fazer as funções objetivo e de mutação. Enzo fez a 'função objetivo' e Rafael a 'função de mutação'."
   ]
  },
  {
   "cell_type": "markdown",
   "metadata": {},
   "source": [
    "### Introdução:"
   ]
  },
  {
   "cell_type": "markdown",
   "metadata": {},
   "source": [
    "O objetivo desta atividade é encontrar uma liga de três elementos que tenha o maior custo e o menor peso atômico possível utilizando algoritmos genéticos. A liga ternária deve ser da forma **`x A . y B . z C`** sendo que \n",
    "\n",
    "$$\n",
    "\\begin{cases}\n",
    "x + y + z = 100\\,\\mathrm{g} \\\\\n",
    "x \\geq 5\\,\\mathrm{g} \\\\\n",
    "y \\geq 5\\,\\mathrm{g} \\\\\n",
    "z \\geq 5\\,\\mathrm{g}\n",
    "\\end{cases}\n",
    "$$\n",
    "\n",
    "e *A*, *B* e *C* são elementos químicos diferentes. O preço e o peso de cada elemento disponível está definido abaixo. Considerou-se que qualquer composto com 3 elementos químicos é chamado de liga, desprezando equivalência química nas fórmulas."
   ]
  },
  {
   "cell_type": "markdown",
   "metadata": {},
   "source": [
    "Essa atividade é similar ao problema resolvido anteriormente, disponível [nesse link](Fera_4.13.ipynb). O diferencial é que agora temos 2 propriedades a serem"
   ]
  },
  {
   "cell_type": "markdown",
   "metadata": {},
   "source": [
    "### Desenvolvimento:"
   ]
  },
  {
   "cell_type": "markdown",
   "metadata": {},
   "source": [
    "Importando as bibliotecas necessárias [1,2] e os scripts:"
   ]
  },
  {
   "cell_type": "code",
   "execution_count": 4,
   "metadata": {},
   "outputs": [
    {
     "ename": "ImportError",
     "evalue": "cannot import name 'funcao_objetivo_pop_liga_leve' from 'Scripts' (c:\\Users\\enzo24035\\OneDrive - ILUM ESCOLA DE CIÊNCIA\\Documentos\\Matérias\\Semestre 3\\Redes Neurais\\Memorial---Redes-Neurais-2\\Feras formidáveis\\Scripts.py)",
     "output_type": "error",
     "traceback": [
      "\u001b[1;31m---------------------------------------------------------------------------\u001b[0m",
      "\u001b[1;31mImportError\u001b[0m                               Traceback (most recent call last)",
      "\u001b[1;32mc:\\Users\\enzo24035\\OneDrive - ILUM ESCOLA DE CIÊNCIA\\Documentos\\Matérias\\Semestre 3\\Redes Neurais\\Memorial---Redes-Neurais-2\\Feras formidáveis\\Fera_4.14.ipynb Cell 9\u001b[0m line \u001b[0;36m4\n\u001b[0;32m      <a href='vscode-notebook-cell:/c%3A/Users/enzo24035/OneDrive%20-%20ILUM%20ESCOLA%20DE%20CI%C3%8ANCIA/Documentos/Mat%C3%A9rias/Semestre%203/Redes%20Neurais/Memorial---Redes-Neurais-2/Feras%20formid%C3%A1veis/Fera_4.14.ipynb#X30sZmlsZQ%3D%3D?line=0'>1</a>\u001b[0m \u001b[39mimport\u001b[39;00m \u001b[39mrandom\u001b[39;00m\n\u001b[0;32m      <a href='vscode-notebook-cell:/c%3A/Users/enzo24035/OneDrive%20-%20ILUM%20ESCOLA%20DE%20CI%C3%8ANCIA/Documentos/Mat%C3%A9rias/Semestre%203/Redes%20Neurais/Memorial---Redes-Neurais-2/Feras%20formid%C3%A1veis/Fera_4.14.ipynb#X30sZmlsZQ%3D%3D?line=1'>2</a>\u001b[0m \u001b[39mfrom\u001b[39;00m \u001b[39mfunctools\u001b[39;00m \u001b[39mimport\u001b[39;00m partial\n\u001b[1;32m----> <a href='vscode-notebook-cell:/c%3A/Users/enzo24035/OneDrive%20-%20ILUM%20ESCOLA%20DE%20CI%C3%8ANCIA/Documentos/Mat%C3%A9rias/Semestre%203/Redes%20Neurais/Memorial---Redes-Neurais-2/Feras%20formid%C3%A1veis/Fera_4.14.ipynb#X30sZmlsZQ%3D%3D?line=3'>4</a>\u001b[0m \u001b[39mfrom\u001b[39;00m \u001b[39mScripts\u001b[39;00m \u001b[39mimport\u001b[39;00m funcao_objetivo_pop_liga_leve\n\u001b[0;32m      <a href='vscode-notebook-cell:/c%3A/Users/enzo24035/OneDrive%20-%20ILUM%20ESCOLA%20DE%20CI%C3%8ANCIA/Documentos/Mat%C3%A9rias/Semestre%203/Redes%20Neurais/Memorial---Redes-Neurais-2/Feras%20formid%C3%A1veis/Fera_4.14.ipynb#X30sZmlsZQ%3D%3D?line=4'>5</a>\u001b[0m \u001b[39mfrom\u001b[39;00m \u001b[39mScripts\u001b[39;00m \u001b[39mimport\u001b[39;00m populacao_liga \u001b[39mas\u001b[39;00m cria_populacao\n\u001b[0;32m      <a href='vscode-notebook-cell:/c%3A/Users/enzo24035/OneDrive%20-%20ILUM%20ESCOLA%20DE%20CI%C3%8ANCIA/Documentos/Mat%C3%A9rias/Semestre%203/Redes%20Neurais/Memorial---Redes-Neurais-2/Feras%20formid%C3%A1veis/Fera_4.14.ipynb#X30sZmlsZQ%3D%3D?line=5'>6</a>\u001b[0m \u001b[39mfrom\u001b[39;00m \u001b[39mScripts\u001b[39;00m \u001b[39mimport\u001b[39;00m selecao_torneio_max \u001b[39mas\u001b[39;00m funcao_selecao\n",
      "\u001b[1;31mImportError\u001b[0m: cannot import name 'funcao_objetivo_pop_liga_leve' from 'Scripts' (c:\\Users\\enzo24035\\OneDrive - ILUM ESCOLA DE CIÊNCIA\\Documentos\\Matérias\\Semestre 3\\Redes Neurais\\Memorial---Redes-Neurais-2\\Feras formidáveis\\Scripts.py)"
     ]
    }
   ],
   "source": [
    "import random\n",
    "from functools import partial\n",
    "\n",
    "from Scripts import funcao_objetivo_pop_liga_leve\n",
    "from Scripts import populacao_liga as cria_populacao\n",
    "from Scripts import selecao_torneio_max as funcao_selecao\n",
    "from Scripts import cruzamento_ordenado as funcao_cruzamento\n",
    "from Scripts import mutacao_elemento as funcao_mutacao"
   ]
  },
  {
   "cell_type": "markdown",
   "metadata": {},
   "source": [
    "Segue o dicionário de elementos e preços concedidos pela questão."
   ]
  },
  {
   "cell_type": "code",
   "execution_count": 3,
   "metadata": {},
   "outputs": [],
   "source": [
    "# preço em dólares por quilograma\n",
    "DIC_PRECO = {\n",
    "    \"H\": 1.39, \"He\": 24, \"Li\": 85.6, \"Be\": 857, \"B\": 3.68, \"C\": 0.122, \"N\": 0.14, \"O\": 0.154, \"F\": 2.16, \"Ne\": 240,\n",
    "    \"Na\": 3.43, \"Mg\": 2.32, \"Al\": 1.79, \"Si\": 1.7, \"P\": 2.69, \"S\": 0.0926, \"Cl\": 0.082, \"Ar\": 0.931, \"K\": 13.6,\n",
    "    \"Ca\": 2.35, \"Sc\": 3460, \"Ti\": 11.7, \"V\": 385, \"Cr\": 9.4, \"Mn\": 1.82, \"Fe\": 0.424, \"Co\": 32.8, \"Ni\": 13.9,\n",
    "    \"Cu\": 6, \"Zn\": 2.55, \"Ga\": 148, \"Ge\": 1010, \"As\": 1.31, \"Se\": 21.4, \"Br\": 4.39, \"Kr\": 290, \"Rb\": 15500,\n",
    "    \"Sr\": 6.68, \"Y\": 31, \"Nb\": 85.6, \"Mo\": 40.1, \"Tc\": 100000, \"Ru\": 10600, \"Rh\": 147000, \"Pd\": 49500, \"Ag\": 521,\n",
    "    \"Cd\": 2.73, \"In\": 167, \"Sn\": 18.7, \"Sb\": 5.79, \"Te\": 63.5, \"I\": 35, \"Xe\": 1800, \"Cs\": 61800, \"Ba\": 0.275,\n",
    "    \"La\": 4.92, \"Ce\": 4.71, \"Pr\": 103, \"Nd\": 57.5, \"Pm\": 460000, \"Sm\": 13.9, \"Eu\": 31.4, \"Gd\": 28.6, \"Tb\": 658,\n",
    "    \"Dy\": 307, \"Ho\": 57.1, \"Er\": 26.4, \"Tm\": 3000, \"Yb\": 17.1, \"Lu\": 643, \"Hf\": 900, \"Ta\": 312, \"W\": 35.3,\n",
    "    \"Re\": 4150, \"Os\": 12000, \"Ir\": 56200, \"Pt\": 27800, \"Hg\": 30.2, \"Tl\": 4200, \"Pb\": 2, \"Bi\": 6.36, \"Po\": 49200000000000,\n",
    "    \"Ac\": 29000000000000, \"Th\": 287, \"Pa\": 280000, \"U\": 101, \"Np\": 660000, \"Pu\": 6490000, \"Am\": 750000,\n",
    "    \"Cm\": 160000000000, \"Bk\": 185000000000, \"Cf\": 185000000000,\n",
    "}"
   ]
  },
  {
   "cell_type": "markdown",
   "metadata": {},
   "source": [
    "Definindo também o dicionário com os pesos atômicos de cada elemento."
   ]
  },
  {
   "cell_type": "code",
   "execution_count": null,
   "metadata": {},
   "outputs": [],
   "source": [
    "# peso atômico em gramas por mol\n",
    "DIC_PESO = {\n",
    "    \"H\": 1.008, \"He\": 4.002602, \"Li\": 6.94, \"Be\": 9.0121831, \"B\": 10.81, \"C\": 12.011, \"N\": 14.007, \"O\": 15.999, \"F\": 18.998403163, \"Ne\": 20.1797,\n",
    "    \"Na\": 22.98976928, \"Mg\": 24.305, \"Al\": 26.9815385, \"Si\": 28.085, \"P\": 30.973761998, \"S\": 32.06, \"Cl\": 35.45, \"Ar\": 39.948, \"K\": 39.0983,\n",
    "    \"Ca\": 40.078, \"Sc\": 44.955908, \"Ti\": 47.867, \"V\": 50.9415, \"Cr\": 51.9961, \"Mn\": 54.938044, \"Fe\": 55.845, \"Co\": 58.933194, \"Ni\": 58.6934,\n",
    "    \"Cu\": 63.546, \"Zn\": 65.38, \"Ga\": 69.723, \"Ge\": 72.63, \"As\": 74.921595, \"Se\": 78.971, \"Br\": 79.904, \"Kr\": 83.798, \"Rb\": 85.4678,\n",
    "    \"Sr\": 87.62, \"Y\": 88.90584, \"Nb\": 92.90637, \"Mo\": 95.95, \"Tc\": 97.90721, \"Ru\": 101.07, \"Rh\": 102.9055, \"Pd\": 106.42, \"Ag\": 107.8682,\n",
    "    \"Cd\": 112.414, \"In\": 114.818, \"Sn\": 118.71, \"Sb\": 121.76, \"Te\": 127.6, \"I\": 126.90447, \"Xe\": 131.293, \"Cs\": 132.90545196, \"Ba\": 137.327,\n",
    "    \"La\": 138.90547, \"Ce\": 140.116, \"Pr\": 140.90766, \"Nd\": 144.242, \"Pm\": 144.91276, \"Sm\": 150.36, \"Eu\": 151.964, \"Gd\": 157.25, \"Tb\": 158.92535,\n",
    "    \"Dy\": 162.5, \"Ho\": 164.93033, \"Er\": 167.259, \"Tm\": 168.93422, \"Yb\": 173.045, \"Lu\": 174.9668, \"Hf\": 178.49, \"Ta\": 180.94788, \"W\": 183.84,\n",
    "    \"Re\": 186.207, \"Os\": 190.23, \"Ir\": 192.217, \"Pt\": 195.084, \"Hg\": 200.592, \"Tl\": 204.38, \"Pb\": 207.2, \"Bi\": 208.9804, \"Po\": 209.0,\n",
    "    \"Ac\": 227.0, \"Th\": 232.0377, \"Pa\": 231.03588, \"U\": 238.02891, \"Np\": 237.0, \"Pu\": 244.0, \"Am\": 243.0,\n",
    "    \"Cm\": 247.0, \"Bk\": 247.0, \"Cf\": 251.0,\n",
    "}"
   ]
  },
  {
   "cell_type": "markdown",
   "metadata": {},
   "source": [
    "Definimos algumas constantes do problema. Aqui é interessante observar que decidimos manter os valores de x, y e z constantes como 90, 5 e 5 gramas (somando 100 gramas). A ideia por trás é, que para achar a liga mais valiosa é lógico pegarmos a maior quantidade de elementos mais valiosos. Nesse caso, o peso máximo possível de um mesmo elemento é 90 gramas - definido pelo enunciado (100-5-5 = 90). Os outros dois elementos terão 5 gramas, visto que é o mínimo necessário.\n",
    "Importante destacar que essa lógica funciona neste problema, pois é um problema monoobjetivo - queremos apenas otimizar o valor da liga.\n",
    "\n",
    "\n",
    "Nota: já que os valores dos elementos são dado em dolár/kg vamos por x,y,z em kg também."
   ]
  },
  {
   "cell_type": "code",
   "execution_count": null,
   "metadata": {},
   "outputs": [],
   "source": [
    "ELEMENTOS = list(DIC_PRECO.keys())\n",
    "TAMANHO_LIGA = 3\n",
    "XYZ = [0.09, 0.005, 0.005]\n",
    "\n",
    "NUM_GERACOES = 1000\n",
    "TAMANHO_POPULACAO = 100\n",
    "CHANCE_DE_CRUZAMENTO = 0.5\n",
    "CHANCE_DE_MUTACAO = 0.025\n",
    "CHANCE_DE_MUTACAO_TAMANHO = 0.05\n",
    "TAMANHO_TORNEIO = 3"
   ]
  },
  {
   "cell_type": "code",
   "execution_count": 15,
   "metadata": {},
   "outputs": [],
   "source": [
    "funcao_objetivo = partial(funcao_objetivo_pop_liga, \n",
    "                          elementos_possiveis = ELEMENTOS, \n",
    "                          dic_precos = DIC_PRECO, \n",
    "                          xyz = XYZ)"
   ]
  },
  {
   "cell_type": "markdown",
   "metadata": {},
   "source": [
    "Criando a população inicial do problema, em que cada indivíduo contém 3 elementos diferentes (A, B, C). Vale lembrar, de novo, que os valores de x,y e z são fixos."
   ]
  },
  {
   "cell_type": "markdown",
   "metadata": {},
   "source": [
    "O código principal, contendo um laço while para fazer todas as etapas do algoritmo genético (seleção, cruzamento, mutação e atualização da geração) até encontrar a liga mais cara. A função objetivo calcula o peso total dos elementos da população, fazendo uma seleção por torneio buscando maximizar o fitness. Usou-se o cruzamento ordenado e a mutação de salto para alterar os elementos de cada liga, buscando encontrar o melhor candidato."
   ]
  },
  {
   "cell_type": "code",
   "execution_count": 17,
   "metadata": {},
   "outputs": [],
   "source": [
    "hall_da_fama = []\n",
    "\n",
    "for n in range(NUM_GERACOES):\n",
    "    \n",
    "    # Seleção\n",
    "    fitness = funcao_objetivo(populacao)        \n",
    "    selecionados = funcao_selecao(populacao, fitness, TAMANHO_TORNEIO)\n",
    "    \n",
    "    # Cruzamento\n",
    "    proxima_geracao = []\n",
    "    for pai, mae in zip(selecionados[::2], selecionados[1::2]):\n",
    "        individuo1, individuo2 = funcao_cruzamento(pai, mae, CHANCE_DE_CRUZAMENTO)\n",
    "        proxima_geracao.append(individuo1)\n",
    "        proxima_geracao.append(individuo2)\n",
    "    \n",
    "    # Mutação\n",
    "    funcao_mutacao(proxima_geracao, CHANCE_DE_MUTACAO, ELEMENTOS)\n",
    "    \n",
    "    # Atualização do hall da fama\n",
    "    fitness = funcao_objetivo(proxima_geracao)\n",
    "        \n",
    "    maior_fitness = max(fitness)\n",
    "    indice = fitness.index(maior_fitness)\n",
    "    hall_da_fama.append(proxima_geracao[indice])    \n",
    "    \n",
    "    # Encerramento\n",
    "    populacao = proxima_geracao"
   ]
  },
  {
   "cell_type": "code",
   "execution_count": 18,
   "metadata": {},
   "outputs": [
    {
     "name": "stdout",
     "output_type": "stream",
     "text": [
      "O melhor indivíduo observado foi:\n",
      "Elementos: ['Po', 'Bk', 'Ac']\n",
      "Pesos respectivo (kg): [0.09, 0.005, 0.005]\n",
      "Valor da liga (Doláres): 4573925000000.0\n"
     ]
    }
   ],
   "source": [
    "fitness = funcao_objetivo(hall_da_fama)\n",
    "maior_fitness = max(fitness)\n",
    "indice = fitness.index(maior_fitness)\n",
    "melhor_individuo_observado = hall_da_fama[indice]\n",
    "\n",
    "\n",
    "print(\"O melhor indivíduo observado foi:\")\n",
    "print(\"Elementos:\", melhor_individuo_observado)\n",
    "print ('Pesos respectivo (kg):', XYZ)\n",
    "\n",
    "print(\"Valor da liga (Doláres):\", maior_fitness)"
   ]
  },
  {
   "cell_type": "markdown",
   "metadata": {},
   "source": [
    "### Conclusão:"
   ]
  },
  {
   "cell_type": "markdown",
   "metadata": {},
   "source": [
    "### Referências:"
   ]
  },
  {
   "cell_type": "markdown",
   "metadata": {},
   "source": [
    "[1] Biblioteca Random. https://docs.python.org/3/library/random.html\n",
    "\n",
    "[2] Biblioteca Functools. **Método Partial**. https://docs.python.org/3/library/functools.html#partial-objects\n",
    "\n",
    "[3] CASSAR, Daniel. \"ATP-303 GA 6.2 - Notebook do problema da mochila.ipynb\". Material de Aula, 2025.\n",
    "\n",
    "[4] CASSAR, Daniel. \"funcoes.py\". Scripts baseados, 2025\n",
    "\n"
   ]
  }
 ],
 "metadata": {
  "kernelspec": {
   "display_name": "ilumpy",
   "language": "python",
   "name": "ilumpy"
  },
  "language_info": {
   "codemirror_mode": {
    "name": "ipython",
    "version": 3
   },
   "file_extension": ".py",
   "mimetype": "text/x-python",
   "name": "python",
   "nbconvert_exporter": "python",
   "pygments_lexer": "ipython3",
   "version": "3.11.6"
  }
 },
 "nbformat": 4,
 "nbformat_minor": 2
}
