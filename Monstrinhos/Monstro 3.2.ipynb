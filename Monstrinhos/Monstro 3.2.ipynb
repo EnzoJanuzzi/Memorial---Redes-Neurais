{
 "cells": [
  {
   "cell_type": "markdown",
   "metadata": {},
   "source": [
    "# 3 - Monstrinhos"
   ]
  },
  {
   "cell_type": "markdown",
   "metadata": {},
   "source": [
    "## 3.2 - “Átomos não são bolinhas e ligações químicas não são pauzinhos” — Prof. Julio"
   ]
  },
  {
   "cell_type": "markdown",
   "metadata": {},
   "source": [
    "### Introdução:"
   ]
  },
  {
   "cell_type": "markdown",
   "metadata": {},
   "source": [
    "O objetivo desta atividade é utilizar classes de Python para modelar elementos químicos e moléculas. Criou-se uma classe relacionada aos elementos, com suas instâncias contendo os seguintes atributos: símbolo do elemento, número atômico do elemento e peso atômico do elemento. Além disso, definiu-se uma classe sobre as moléculas, as quais recebem um dicionário em que as chaves representam os elementos e os valores representam a quantidade do respectivo elemento para cada molécula. Essa classe mostra o peso atômico da molécula criada e sua fórmula química."
   ]
  },
  {
   "cell_type": "markdown",
   "metadata": {},
   "source": [
    "### Desenvolvimento:"
   ]
  },
  {
   "cell_type": "markdown",
   "metadata": {},
   "source": [
    "Definindo a classe Elemento, com os atributos mencionados. O método *repr* permite representar cada instância com suas características, através da função *print()* [1]"
   ]
  },
  {
   "cell_type": "code",
   "execution_count": 91,
   "metadata": {},
   "outputs": [],
   "source": [
    "class Elemento:\n",
    "    def __init__(self, nome, simbolo, num_atomico, peso_atomico):\n",
    "        \"\"\"Inicialização da classe, com definições\"\"\"\n",
    "        \n",
    "        self.nome = nome\n",
    "        self.simbolo = simbolo\n",
    "        self.num_atomico = num_atomico\n",
    "        self.peso_atomico = peso_atomico\n",
    "\n",
    "    def __repr__(self, ):\n",
    "        return (f\"Elemento {self.nome} com símbolo {self.simbolo}, \"\n",
    "        f\"número atômico {self.num_atomico} e peso atômico {self.peso_atomico}\")\n"
   ]
  },
  {
   "cell_type": "markdown",
   "metadata": {},
   "source": [
    "Instanciando alguns elementos como exemplo"
   ]
  },
  {
   "cell_type": "code",
   "execution_count": 89,
   "metadata": {},
   "outputs": [],
   "source": [
    "hidrogenio = Elemento(\"Hidrogênio\",\"H\", 1, 1)\n",
    "oxigenio = Elemento(\"Oxigênio\", \"O\", 8, 16)\n",
    "enxofre = Elemento(\"Enxofre\", \"S\", 16, 32)"
   ]
  },
  {
   "cell_type": "markdown",
   "metadata": {},
   "source": [
    "Para saber informações sobre o elemento, usa-se a função *print()*:"
   ]
  },
  {
   "cell_type": "code",
   "execution_count": 90,
   "metadata": {},
   "outputs": [
    {
     "name": "stdout",
     "output_type": "stream",
     "text": [
      "Elemento Hidrogênio com símbolo H, número atômico 1 e peso atômico 1\n"
     ]
    }
   ],
   "source": [
    "print(hidrogenio)"
   ]
  },
  {
   "cell_type": "markdown",
   "metadata": {},
   "source": [
    "Criando a classe Molecula, a qual recebe um dicionário com os elementos que compõem cada molécula no argumento *elementos*. "
   ]
  },
  {
   "cell_type": "code",
   "execution_count": 92,
   "metadata": {},
   "outputs": [],
   "source": [
    "class Molecula:\n",
    "    def __init__(self, nome, elementos):\n",
    "        \"\"\"Carrega as fórmulas criadas\"\"\"\n",
    "        self.nome = nome\n",
    "        self.elementos = elementos\n",
    "        self.peso_atomico()\n",
    "        self.formula()\n",
    "\n",
    "    def __repr__(self):\n",
    "        return (f\"Molécula {self.nome} com fórmula {self.formula()}, e peso atômico {self.peso_atomico()}\")\n",
    "\n",
    "    def peso_atomico(self):\n",
    "        \"\"\"Calcula o peso atômico total considerando as quantidades de cada elemento\"\"\"\n",
    "        peso = 0\n",
    "        for elemento, qtd in self.elementos.items():\n",
    "            peso += elemento.peso_atomico * qtd\n",
    "        return peso\n",
    "\n",
    "    def formula(self):\n",
    "        \"\"\"Cria a fórmula química da molécula instanciada agrupando os elementos e quantidades\"\"\"\n",
    "        string = ''\n",
    "        for elemento, qtd in self.elementos.items():\n",
    "            simbolo = elemento.simbolo\n",
    "            if qtd == 1:\n",
    "                string += simbolo \n",
    "            else:\n",
    "                string += simbolo + str(qtd)\n",
    "        return string"
   ]
  },
  {
   "cell_type": "markdown",
   "metadata": {},
   "source": [
    "Como exemplo, definindo a molécula de água, criando o dicionário correspondente:"
   ]
  },
  {
   "cell_type": "code",
   "execution_count": 65,
   "metadata": {},
   "outputs": [],
   "source": [
    "dict_agua = {\n",
    "    hidrogenio: 2,\n",
    "    oxigenio: 1\n",
    "}"
   ]
  },
  {
   "cell_type": "markdown",
   "metadata": {},
   "source": [
    "Instanciando a classe Molecula para a água:"
   ]
  },
  {
   "cell_type": "code",
   "execution_count": 93,
   "metadata": {},
   "outputs": [],
   "source": [
    "agua = Molecula(\"Água\", dict_agua)"
   ]
  },
  {
   "cell_type": "markdown",
   "metadata": {},
   "source": [
    "É possível extrair informações diretamente dessa classe, obtendo seus métodos:"
   ]
  },
  {
   "cell_type": "code",
   "execution_count": 94,
   "metadata": {},
   "outputs": [
    {
     "data": {
      "text/plain": [
       "18"
      ]
     },
     "execution_count": 94,
     "metadata": {},
     "output_type": "execute_result"
    }
   ],
   "source": [
    "agua.peso_atomico()"
   ]
  },
  {
   "cell_type": "code",
   "execution_count": 95,
   "metadata": {},
   "outputs": [
    {
     "data": {
      "text/plain": [
       "'H2O'"
      ]
     },
     "execution_count": 95,
     "metadata": {},
     "output_type": "execute_result"
    }
   ],
   "source": [
    "agua.formula()"
   ]
  },
  {
   "cell_type": "markdown",
   "metadata": {},
   "source": [
    "Fazendo para a molécula de ácido sulfúrico:"
   ]
  },
  {
   "cell_type": "code",
   "execution_count": 97,
   "metadata": {},
   "outputs": [],
   "source": [
    "dict_acido = {\n",
    "    hidrogenio: 2,\n",
    "    enxofre: 1,\n",
    "    oxigenio: 4\n",
    "}"
   ]
  },
  {
   "cell_type": "markdown",
   "metadata": {},
   "source": [
    "Instanciando sua classe molecular:"
   ]
  },
  {
   "cell_type": "code",
   "execution_count": 99,
   "metadata": {},
   "outputs": [],
   "source": [
    "acido_sulfurico = Molecula(\"Ácido sulfúrico\", dict_acido)"
   ]
  },
  {
   "cell_type": "markdown",
   "metadata": {},
   "source": [
    "Extraindo suas características:"
   ]
  },
  {
   "cell_type": "code",
   "execution_count": 100,
   "metadata": {},
   "outputs": [
    {
     "name": "stdout",
     "output_type": "stream",
     "text": [
      "Molécula Ácido sulfúrico com fórmula H2SO4, e peso atômico 98\n"
     ]
    }
   ],
   "source": [
    "print(acido_sulfurico)"
   ]
  },
  {
   "cell_type": "markdown",
   "metadata": {},
   "source": [
    "### Conclusão:"
   ]
  },
  {
   "cell_type": "markdown",
   "metadata": {},
   "source": [
    "Esta atividade permitiu aprender mais sobre o conceito de classe, com aplicações práticas na área de química. Foi possível representar corretamente um elemento e uma molécula química, além de relacionar diferentes áreas do conhecimento."
   ]
  },
  {
   "cell_type": "markdown",
   "metadata": {},
   "source": [
    "### Referências:"
   ]
  },
  {
   "cell_type": "markdown",
   "metadata": {},
   "source": [
    "[1] CASSAR, Daniel. \"ATP-303 NN 2.2 - Notebook Classes.ipynb\". Material de Aula, 2024."
   ]
  }
 ],
 "metadata": {
  "kernelspec": {
   "display_name": "ilumpy",
   "language": "python",
   "name": "ilumpy"
  }
 },
 "nbformat": 4,
 "nbformat_minor": 2
}
